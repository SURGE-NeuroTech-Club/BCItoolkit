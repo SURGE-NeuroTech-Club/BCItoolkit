{
 "cells": [
  {
   "cell_type": "markdown",
   "metadata": {},
   "source": [
    "### Classification Testing Notebook\n",
    "Has imports and cells for loading and psuedo-streaming SSVEP data"
   ]
  },
  {
   "cell_type": "code",
   "execution_count": 1,
   "metadata": {},
   "outputs": [
    {
     "name": "stdout",
     "output_type": "stream",
     "text": [
      "pygame 2.6.0 (SDL 2.28.4, Python 3.8.19)\n",
      "Hello from the pygame community. https://www.pygame.org/contribute.html\n"
     ]
    }
   ],
   "source": [
    "import sys\n",
    "sys.path.append(\"..\")\n",
    "import time\n",
    "from brainflow.board_shim import BoardShim, BrainFlowInputParams, BoardIds, BrainFlowPresets\n",
    "import numpy as np\n",
    "from mvlearn.embed import CCA\n",
    "import matplotlib.pyplot as plt\n",
    "\n",
    "# Library Modules:\n",
    "from modules.brainflow_stream import *\n",
    "from modules.filtering import *\n",
    "from modules.segmentation import *\n",
    "\n",
    "from modules.classification import *\n",
    "\n",
    "# from modules.preprocessing import * # Old"
   ]
  },
  {
   "cell_type": "code",
   "execution_count": 2,
   "metadata": {},
   "outputs": [
    {
     "data": {
      "text/plain": [
       "(8, 15000)"
      ]
     },
     "execution_count": 2,
     "metadata": {},
     "output_type": "execute_result"
    }
   ],
   "source": [
    "data = np.load('simulated_test_SSVEP.npy')\n",
    "data.shape"
   ]
  },
  {
   "cell_type": "code",
   "execution_count": 3,
   "metadata": {},
   "outputs": [
    {
     "name": "stdout",
     "output_type": "stream",
     "text": [
      "Sampling Rate: 250\n",
      "Default Channels: ['Fz', 'C3', 'Cz', 'C4', 'Pz', 'PO7', 'Oz', 'PO8', 'F5', 'F7', 'F3', 'F1', 'F2', 'F4', 'F6', 'F8']\n",
      "Channel Mapping: {'Fz': 'O1', 'C3': 'O2', 'Cz': 'Oz', 'C4': 'Pz', 'Pz': 'P3', 'PO7': 'P4', 'Oz': 'POz', 'PO8': 'P1'}\n",
      "Board setup and streaming started successfully\n"
     ]
    }
   ],
   "source": [
    "serial_port = 'COM4' \n",
    "board_id = BoardIds.SYNTHETIC_BOARD # BoardIds.PLAYBACK_FILE_BOARD -> only if recorded with a support board (I believe...)\n",
    "frequencies = [9.25, 11.25, 13.25, 15.25] # Stimulus frequencies; used for CCA & harmonic generation\n",
    "buttons = ['Right', 'Left', 'Up', 'Down'] # Adds custom text to each box - must be same length as frequencies \n",
    "button_pos = [0, 2, 3, 1] # Assigns positions to custom text - must be same length as buttons\n",
    "segment_duration = 4 # seconds\n",
    "display = 0 # Which screen to display the stimulus paradigm on --> 0 is default\n",
    "\n",
    "# Static Variables - Probably don't need to touch :)\n",
    "harmonics = np.arange(1, 4) # Generates the 1st, 2nd, & 3rd Harmonics\n",
    "sampling_rate = BoardShim.get_sampling_rate(board_id)\n",
    "n_samples = sampling_rate * segment_duration \n",
    "\n",
    "\n",
    "eeg_channels = BoardShim.get_eeg_names(board_id)\n",
    "channel_names = [\"O1\", \"O2\", \"Oz\", \"Pz\", \"P3\", \"P4\", \"POz\", \"P1\"]\n",
    "channel_mapping = dict(zip(eeg_channels, channel_names))\n",
    "\n",
    "# Show board information\n",
    "print(f\"Sampling Rate: {sampling_rate}\")\n",
    "print(f\"Default Channels: {eeg_channels}\")\n",
    "print(f\"Channel Mapping: {channel_mapping}\")\n",
    "\n",
    "board = BrainFlowBoardSetup(board_id, serial_port)\n",
    "# board.show_params() # Logger shows this info by default - this is another method to show\n",
    "board.setup()"
   ]
  },
  {
   "cell_type": "code",
   "execution_count": 4,
   "metadata": {},
   "outputs": [],
   "source": [
    "frequencies = [9.25, 11.25, 13.25, 15.25]\n",
    "harmonics = np.arange(1, 4)\n",
    "sampling_rate = 250"
   ]
  },
  {
   "cell_type": "markdown",
   "metadata": {},
   "source": [
    "### Testing CCA"
   ]
  },
  {
   "cell_type": "code",
   "execution_count": 5,
   "metadata": {},
   "outputs": [
    {
     "name": "stdout",
     "output_type": "stream",
     "text": [
      "Detected frequency using CCA: 11.25 Hz with correlation: 0.997\n"
     ]
    }
   ],
   "source": [
    "# Taking a subsection of the simulated data (1000 samples)\n",
    "eeg_data = data[:, 3000:4000]\n",
    "\n",
    "\n",
    "cca_classifier = SSVEPClassifier(frequencies, harmonics, sampling_rate, n_samples=len(eeg_data[1]), method='CCA', stack_harmonics=True)\n",
    "\n",
    "# Perform CCA analysis\n",
    "detected_freq, correlation = cca_classifier(eeg_data)\n",
    "print(f\"Detected frequency using CCA: {detected_freq} Hz with correlation: {correlation:.3f}\")"
   ]
  },
  {
   "cell_type": "markdown",
   "metadata": {},
   "source": [
    "### Testing FBCCA"
   ]
  },
  {
   "cell_type": "code",
   "execution_count": 9,
   "metadata": {},
   "outputs": [
    {
     "name": "stdout",
     "output_type": "stream",
     "text": [
      "Detected frequency: 11.25 Hz with correlation: 0.999\n"
     ]
    }
   ],
   "source": [
    "# Taking a subsection of the simulated data (1000 samples)\n",
    "eeg_data = data[:, 3000:4000]\n",
    "\n",
    "fbcca_classifier = SSVEPClassifier(frequencies, harmonics, sampling_rate, n_samples=len(eeg_data[1]), method='FBCCA', num_subbands=1)\n",
    "\n",
    "# Perform CCA analysis\n",
    "detected_freq, correlation = fbcca_classifier(eeg_data)\n",
    "print(f\"Detected frequency: {detected_freq} Hz with correlation: {correlation:.3f}\")"
   ]
  },
  {
   "cell_type": "markdown",
   "metadata": {},
   "source": [
    "### Testing foCCA"
   ]
  },
  {
   "cell_type": "code",
   "execution_count": 10,
   "metadata": {},
   "outputs": [
    {
     "name": "stdout",
     "output_type": "stream",
     "text": [
      "Detected frequency using foCCA: None Hz with correlation: 0.000\n"
     ]
    }
   ],
   "source": [
    "# Initialize SSVEP classifier with foCCA method\n",
    "focc_classifier = SSVEPClassifier(frequencies, harmonics, sampling_rate, n_samples=len(eeg_data[1]), method='foCCA')\n",
    "\n",
    "# Perform foCCA analysis\n",
    "detected_freq_focca, correlation_focca = focc_classifier(eeg_data)\n",
    "print(f\"Detected frequency using foCCA: {detected_freq_focca} Hz with correlation: {correlation_focca:.3f}\")"
   ]
  },
  {
   "cell_type": "code",
   "execution_count": 22,
   "metadata": {},
   "outputs": [
    {
     "name": "stdout",
     "output_type": "stream",
     "text": [
      "\n",
      "Streaming stopped\n",
      "Session released\n"
     ]
    }
   ],
   "source": [
    "board.stop()"
   ]
  },
  {
   "cell_type": "code",
   "execution_count": 7,
   "metadata": {},
   "outputs": [
    {
     "ename": "NameError",
     "evalue": "name 'PreProcess' is not defined",
     "output_type": "error",
     "traceback": [
      "\u001b[1;31m---------------------------------------------------------------------------\u001b[0m",
      "\u001b[1;31mNameError\u001b[0m                                 Traceback (most recent call last)",
      "Cell \u001b[1;32mIn[7], line 1\u001b[0m\n\u001b[1;32m----> 1\u001b[0m segmenter \u001b[38;5;241m=\u001b[39m \u001b[43mPreProcess\u001b[49m(board, segment_duration\u001b[38;5;241m=\u001b[39msegment_duration)\n\u001b[0;32m      2\u001b[0m classifier \u001b[38;5;241m=\u001b[39m ClassifySSVEP(frequencies, harmonics, sampling_rate, n_samples, stack_harmonics\u001b[38;5;241m=\u001b[39m\u001b[38;5;28;01mFalse\u001b[39;00m)\n\u001b[0;32m      3\u001b[0m classifier_stacked \u001b[38;5;241m=\u001b[39m ClassifySSVEP(frequencies, harmonics, sampling_rate, n_samples, stack_harmonics\u001b[38;5;241m=\u001b[39m\u001b[38;5;28;01mTrue\u001b[39;00m)\n",
      "\u001b[1;31mNameError\u001b[0m: name 'PreProcess' is not defined"
     ]
    }
   ],
   "source": [
    "segmenter = PreProcess(board, segment_duration=segment_duration)\n",
    "classifier = ClassifySSVEP(frequencies, harmonics, sampling_rate, n_samples, stack_harmonics=False)\n",
    "classifier_stacked = ClassifySSVEP(frequencies, harmonics, sampling_rate, n_samples, stack_harmonics=True)\n",
    "\n",
    "while True:\n",
    "    segment = segmenter.get_segment()\n",
    "    if segment is not None:\n",
    "        \n",
    "        # print(f\"Segment shape: {segment.shape}\")\n",
    "        eeg_segment = segment[0:8, :]\n",
    "\n",
    "        # Step 2: Filter the data\n",
    "        filtered_segment = segmenter.filter_data(eeg_segment)\n",
    "        print(\"Filtered data shape:\", filtered_segment.shape)\n",
    "\n",
    "        # Step 3: Use CCA to match the EEG & Reference (harmonic) signals\n",
    "            # Unstacked Harmonics (testing)\n",
    "        detected_freq, correlation = classifier.cca_analysis(filtered_segment)\n",
    "            # Stacked Harmonics (testing)\n",
    "        detected_freq_stacked, correlation_stacked = classifier_stacked.cca_analysis(filtered_segment)\n",
    "        \n",
    "        print(f\"Detected frequency: {detected_freq} Hz with correlation: {correlation}\")\n",
    "\n",
    "        # Optionally save or process the data further\n",
    "        # segmenter.save_data(filtered_data, \"filtered_data.csv\")\n",
    "        # segmenter.save_data(features, \"features.csv\")\n",
    "\n",
    "    # Sleep for a while to collect new data\n",
    "    time.sleep(segmenter.segment_duration)"
   ]
  },
  {
   "cell_type": "code",
   "execution_count": null,
   "metadata": {},
   "outputs": [],
   "source": []
  }
 ],
 "metadata": {
  "kernelspec": {
   "display_name": "neuro",
   "language": "python",
   "name": "python3"
  },
  "language_info": {
   "codemirror_mode": {
    "name": "ipython",
    "version": 3
   },
   "file_extension": ".py",
   "mimetype": "text/x-python",
   "name": "python",
   "nbconvert_exporter": "python",
   "pygments_lexer": "ipython3",
   "version": "3.8.19"
  }
 },
 "nbformat": 4,
 "nbformat_minor": 2
}
