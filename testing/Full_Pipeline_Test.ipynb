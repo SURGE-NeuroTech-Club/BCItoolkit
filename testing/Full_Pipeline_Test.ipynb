{
 "cells": [
  {
   "cell_type": "markdown",
   "metadata": {},
   "source": [
    "# Example Full Pipeline\n",
    "### This pipeline shows how to:\n",
    "1. Connect to and stream from an EEG device (board)\n",
    "2. Start the SSVEPStimulus\n",
    "3. Segment the EEG data\n",
    "4. Filter the EEG data\n",
    "5. Classify the EEG data"
   ]
  },
  {
   "cell_type": "markdown",
   "metadata": {},
   "source": [
    "### Importing Modules:"
   ]
  },
  {
   "cell_type": "code",
   "execution_count": 4,
   "metadata": {},
   "outputs": [],
   "source": [
    "import sys\n",
    "sys.path.append(\"..\") # So that it can find the modules\n",
    "\n",
    "# Assuming the other modules (brainflow_stream, filtering, segmentation, classification) are available\n",
    "from modules.brainflow_stream import *\n",
    "from modules.filtering import *\n",
    "from modules.brainflow_filtering import *\n",
    "from modules.segmentation import *\n",
    "from modules.classification import *\n",
    "from modules.ssvep_stim import *"
   ]
  },
  {
   "cell_type": "markdown",
   "metadata": {},
   "source": [
    "### Settings & Variables"
   ]
  },
  {
   "cell_type": "code",
   "execution_count": 5,
   "metadata": {},
   "outputs": [
    {
     "name": "stdout",
     "output_type": "stream",
     "text": [
      "Channel Mapping: {'Fz': 'O1', 'C3': 'O2', 'Cz': 'Oz', 'C4': 'Pz', 'Pz': 'P3', 'PO7': 'P4', 'Oz': 'POz', 'PO8': 'P1'}\n",
      "Sampling Rate: 250\n",
      "Segment Duration: 2\n"
     ]
    }
   ],
   "source": [
    "serial_port = 'COM4' \n",
    "board_id = BoardIds.SYNTHETIC_BOARD # Example Board - replace with actual board from: https://brainflow.readthedocs.io/en/stable/UserAPI.html#brainflow-board-shim\n",
    "box_frequencies = [9.25, 11.25, 13.25, 15.25] # How many boxes and what frequencies\n",
    "box_texts = ['Right', 'Left', 'Up', 'Down'] # What you want the boxes to say\n",
    "box_text_indices = [0, 1, 3, 2] # Which boxes you want to display which text (clockwise from top)\n",
    "display_index = 0 # Which monitor to display the stimulus on\n",
    "display_mode = 'both' # Mode of display ('freq', 'text', 'both').\n",
    "monitor_name = 'testMonitor' # Name of monitor (leaving this is fine -> may need to install standalone psychopy)\n",
    "segment_duration = 2 # The number of seconds for each segment of data to be processed\n",
    "harmonics = np.arange(1, 4) # Generates the 1st, 2nd, & 3rd Harmonics\n",
    "highcut = 50 # Filter out data above 50 Hz\n",
    "lowcut = 0.1 # Filter out data below 0.1 Hz\n",
    "\n",
    "\n",
    "# Static Variables - Probably don't need to touch :)\n",
    "sampling_rate = BoardShim.get_sampling_rate(board_id) # Find sampling rate of brainflow board\n",
    "n_samples = sampling_rate * segment_duration # Calculates the number of samples in each segment\n",
    "eeg_channels = BoardShim.get_eeg_names(board_id)\n",
    "channel_names = [\"O1\", \"O2\", \"Oz\", \"Pz\", \"P3\", \"P4\", \"POz\", \"P1\"]\n",
    "channel_mapping = dict(zip(eeg_channels, channel_names))\n",
    "\n",
    "# Show board information\n",
    "print(f\"Channel Mapping: {channel_mapping}\")\n",
    "print(f\"Sampling Rate: {sampling_rate}\")\n",
    "print(f\"Segment Duration: {segment_duration}\")"
   ]
  },
  {
   "cell_type": "markdown",
   "metadata": {},
   "source": [
    "## Pipeline"
   ]
  },
  {
   "cell_type": "code",
   "execution_count": 6,
   "metadata": {},
   "outputs": [
    {
     "name": "stdout",
     "output_type": "stream",
     "text": [
      "Board setup and streaming started successfully\n",
      "Actual Frequencies: [9.25, 11.28, 13.12, 15.24]\n",
      "Detected frequency using CCA: 15.24 Hz with correlation: 0.524\n",
      "Detected frequency using CCA: 15.24 Hz with correlation: 0.521\n",
      "Detected frequency using CCA: 15.24 Hz with correlation: 0.517\n",
      "Detected frequency using CCA: 15.24 Hz with correlation: 0.614\n",
      "Detected frequency using CCA: 15.24 Hz with correlation: 0.643\n",
      "Detected frequency using CCA: 15.24 Hz with correlation: 0.594\n",
      "Detected frequency using CCA: 15.24 Hz with correlation: 0.601\n",
      "Detected frequency using CCA: 15.24 Hz with correlation: 0.622\n",
      "Detected frequency using CCA: 15.24 Hz with correlation: 0.574\n",
      "Detected frequency using CCA: 15.24 Hz with correlation: 0.608\n",
      "Detected frequency using CCA: 15.24 Hz with correlation: 0.565\n",
      "Detected frequency using CCA: 15.24 Hz with correlation: 0.586\n",
      "Detected frequency using CCA: 15.24 Hz with correlation: 0.589\n",
      "Detected frequency using CCA: 15.24 Hz with correlation: 0.599\n",
      "Detected frequency using CCA: 15.24 Hz with correlation: 0.637\n",
      "Detected frequency using CCA: 15.24 Hz with correlation: 0.631\n",
      "\n",
      "Streaming stopped\n",
      "Session released\n"
     ]
    }
   ],
   "source": [
    "# Initialize the board\n",
    "board = BrainFlowBoardSetup(board_id, serial_port)\n",
    "\n",
    "# Start data stream\n",
    "board.setup()\n",
    "\n",
    "# Initialize the segmenter object\n",
    "segmenter_obj = Segmentation(board, segment_duration=2)\n",
    "\n",
    "# Initialize the filter object\n",
    "filter_obj = Filtering(sampling_rate)\n",
    "\n",
    "# Initialize the SSVEP Stimulus\n",
    "stimulus_process = SSVEPStimulusRunner(box_frequencies=box_frequencies, \n",
    "                                        box_texts=box_texts, \n",
    "                                        box_text_indices=box_text_indices,\n",
    "                                        display_index=display_index, \n",
    "                                        display_mode=display_mode, \n",
    "                                        monitor_name = monitor_name)\n",
    "\n",
    "# Start the stimulus presentation process\n",
    "stimulus_process.start()\n",
    "\n",
    "# Retreive the calculated actual stimulus frequencies (necessary for CCA)\n",
    "actual_frequencies = stimulus_process.get_actual_frequencies()\n",
    "\n",
    "print(f\"Actual Frequencies: {actual_frequencies}\")\n",
    "\n",
    "# Initialize the classifier (CCA)\n",
    "cca_classifier = SSVEPClassifier(frequencies = actual_frequencies, \n",
    "                                    harmonics = harmonics, \n",
    "                                    sampling_rate = sampling_rate, \n",
    "                                    n_samples = n_samples, \n",
    "                                    method='CCA', \n",
    "                                    stack_harmonics=True)\n",
    "\n",
    "\n",
    "# Start the processing loop!\n",
    "start_time = time.time()\n",
    "\n",
    "while time.time() - start_time < 30: # run for 30 seconds\n",
    "    \n",
    "    segment = segmenter_obj.get_segment_time()\n",
    "    \n",
    "    if segment is None:\n",
    "        time.sleep(0.1)  # Wait a little before trying again\n",
    "        continue\n",
    "\n",
    "    eeg_segment = segment[:8, :]  # Assuming 8 channels, adjust if necessary\n",
    "    \n",
    "    filtered_segment = filter_obj.bandpass_filter(eeg_segment,\n",
    "                                                  highcut=highcut,\n",
    "                                                  lowcut=lowcut,\n",
    "                                                  order=4  # Parameter adjusts rolloff of filter (higher = faster dropoff)\n",
    "                                                  )\n",
    "    \n",
    "    detected_freq, correlation = cca_classifier(filtered_segment)\n",
    "    \n",
    "    print(f\"Detected frequency using CCA: {detected_freq} Hz with correlation: {correlation:.3f}\")\n",
    "    \n",
    "    ########\n",
    "    # Insert output code here - i.e., if detected_freq = x: <perform action>\n",
    "    #######\n",
    "\n",
    "    time.sleep(0.1)\n",
    "\n",
    "# Stop the SSVEPStimulus process\n",
    "stimulus_process.stop()\n",
    "\n",
    "# Stop data stream\n",
    "board.stop()"
   ]
  }
 ],
 "metadata": {
  "kernelspec": {
   "display_name": "neuro",
   "language": "python",
   "name": "python3"
  },
  "language_info": {
   "codemirror_mode": {
    "name": "ipython",
    "version": 3
   },
   "file_extension": ".py",
   "mimetype": "text/x-python",
   "name": "python",
   "nbconvert_exporter": "python",
   "pygments_lexer": "ipython3",
   "version": "3.8.18"
  }
 },
 "nbformat": 4,
 "nbformat_minor": 2
}
