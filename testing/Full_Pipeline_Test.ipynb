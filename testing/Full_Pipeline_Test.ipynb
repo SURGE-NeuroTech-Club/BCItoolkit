{
 "cells": [
  {
   "cell_type": "markdown",
   "metadata": {},
   "source": [
    "### Full Pipeline Testing Notebook\n",
    "Working on integrating the SSVEP stimulus with the EEG processing classes/modules"
   ]
  },
  {
   "cell_type": "code",
   "execution_count": 1,
   "metadata": {},
   "outputs": [
    {
     "name": "stdout",
     "output_type": "stream",
     "text": [
      "pygame 2.5.2 (SDL 2.28.3, Python 3.8.18)\n",
      "Hello from the pygame community. https://www.pygame.org/contribute.html\n"
     ]
    }
   ],
   "source": [
    "import sys\n",
    "# import os\n",
    "sys.path.append(\"..\")\n",
    "# import time\n",
    "# import numpy as np\n",
    "# from psychopy import visual, event, core, monitors\n",
    "# from brainflow.board_shim import BoardShim, BrainFlowInputParams, BoardIds\n",
    "# from mvlearn.embed import CCA\n",
    "# from multiprocessing import Process, Queue\n",
    "\n",
    "# Assuming the other modules (brainflow_stream, filtering, segmentation, classification) are available\n",
    "from modules.brainflow_stream import *\n",
    "from modules.filtering import *\n",
    "from modules.segmentation import *\n",
    "from modules.classification import *\n",
    "\n",
    "\n",
    "\n",
    "import threading\n",
    "import time\n",
    "from brainflow.board_shim import BoardShim\n",
    "import numpy as np\n",
    "from multiprocessing import Process, Queue\n",
    "from psychopy import visual, event, core, monitors\n",
    "import warnings\n",
    "warnings.filterwarnings(\"ignore\", message=\"elementwise comparison failed; returning scalar instead\")\n",
    "\n",
    "class SSVEPStimulus:\n",
    "    def __init__(self, box_frequencies, box_texts=None, box_text_indices=None, display_index=0, display_mode=None, monitor_name='testMonitor'):\n",
    "        self.box_frequencies = box_frequencies\n",
    "        self.box_texts = box_texts\n",
    "        self.box_text_indices = box_text_indices\n",
    "        self.display_mode = display_mode\n",
    "\n",
    "        if box_texts and len(box_texts) != len(box_text_indices):\n",
    "            raise ValueError(\"The length of box_texts and box_text_indices must be the same if box_texts is provided.\")\n",
    "        \n",
    "        monitor = monitors.Monitor(name=monitor_name)\n",
    "        self.win = visual.Window(\n",
    "            monitor=monitor, \n",
    "            screen=display_index, \n",
    "            fullscr=True, \n",
    "            color='black', \n",
    "            units='pix', \n",
    "            allowGUI=False, \n",
    "            winType='pyglet',\n",
    "            autoLog=False\n",
    "        )\n",
    "\n",
    "        refresh_rates = []\n",
    "        for _ in range(2):\n",
    "            refresh_rate = self.win.getActualFrameRate(nIdentical=80, nWarmUpFrames=200, threshold=1)\n",
    "            if refresh_rate is not None:\n",
    "                refresh_rates.append(refresh_rate)\n",
    "            core.wait(0.1)\n",
    "\n",
    "        self.refresh_rate = round(np.mean(refresh_rates), 0)  \n",
    "        print(f\"Measured Refresh Rate: {self.refresh_rate:.2f} Hz\")\n",
    "\n",
    "        self.actual_frequencies = self.calculate_actual_frequencies(box_frequencies)\n",
    "        print(f\"Calculated Actual Frequencies: {self.actual_frequencies}\")\n",
    "\n",
    "        sorted_indices = sorted(range(len(self.actual_frequencies)), key=lambda i: self.actual_frequencies[i])\n",
    "        interleaved_indices = []\n",
    "        left, right = 0, len(sorted_indices) - 1\n",
    "        while left <= right:\n",
    "            if left == right:\n",
    "                interleaved_indices.append(sorted_indices[left])\n",
    "            else:\n",
    "                interleaved_indices.append(sorted_indices[left])\n",
    "                interleaved_indices.append(sorted_indices[right])\n",
    "            left += 1\n",
    "            right -= 1\n",
    "\n",
    "        self.boxes = []\n",
    "        self.frame_count = 0\n",
    "\n",
    "        centerX, centerY = 0, 0\n",
    "        radius = min(self.win.size) // 3\n",
    "        num_boxes = len(self.actual_frequencies)\n",
    "\n",
    "        for i, idx in enumerate(interleaved_indices):\n",
    "            angle = 2 * np.pi * i / num_boxes\n",
    "            pos = (centerX + int(radius * np.cos(angle)), centerY + int(radius * np.sin(angle)))\n",
    "            box = visual.Rect(win=self.win, width=150, height=150, fillColor='white', lineColor='white', pos=pos)\n",
    "            \n",
    "            box_info = {\n",
    "                \"box\": box,\n",
    "                \"frequency\": self.actual_frequencies[idx],\n",
    "                \"frame_count\": 0,\n",
    "                \"on\": True\n",
    "            }\n",
    "\n",
    "            if self.display_mode in [\"freq\", \"both\"]:\n",
    "                freq_text_stim = visual.TextStim(win=self.win, text=f\"{self.actual_frequencies[idx]:.2f} Hz\", color='black', pos=pos)\n",
    "                box_info[\"text\"] = freq_text_stim\n",
    "\n",
    "            if self.display_mode in [\"both\", \"text\"] and self.box_texts and idx in box_text_indices:\n",
    "                box_text = box_texts[box_text_indices.index(idx)]\n",
    "                text_pos = (pos[0], pos[1] + 30) if self.display_mode == \"both\" else pos\n",
    "                box_text_stim = visual.TextStim(win=self.win, text=box_text, color='black', pos=text_pos)\n",
    "                box_info[\"box_text\"] = box_text_stim\n",
    "            \n",
    "            self.boxes.append(box_info)\n",
    "\n",
    "        self.has_started = False\n",
    "        self.start_button = visual.Rect(win=self.win, width=300, height=100, fillColor='green', pos=(0, 0))\n",
    "        self.start_text = visual.TextStim(win=self.win, text='Press Space/Enter to Start', color='white', pos=(0, 0))\n",
    "\n",
    "    def calculate_actual_frequencies(self, desired_frequencies):\n",
    "        actual_frequencies = []\n",
    "        for freq in desired_frequencies:\n",
    "            frames_per_cycle = round(self.refresh_rate / freq)\n",
    "            actual_freq = round(self.refresh_rate / frames_per_cycle, 2)\n",
    "            actual_frequencies.append(actual_freq)\n",
    "        return actual_frequencies\n",
    "\n",
    "    def run(self):\n",
    "        while True:\n",
    "            keys = event.getKeys()\n",
    "            if 'escape' in keys:\n",
    "                break\n",
    "            elif 'space' in keys or 'return' in keys:\n",
    "                self.has_started = True\n",
    "            \n",
    "            if not self.has_started:\n",
    "                self.start_button.draw()\n",
    "                self.start_text.draw()\n",
    "            else:\n",
    "                self.frame_count += 1\n",
    "                for box in self.boxes:\n",
    "                    flicker_period = self.refresh_rate / box[\"frequency\"]\n",
    "                    if (self.frame_count % flicker_period) < (flicker_period / 2):\n",
    "                        if not box[\"on\"]:\n",
    "                            box[\"on\"] = True\n",
    "                            box[\"box\"].setAutoDraw(True)\n",
    "                            if \"text\" in box:\n",
    "                                box[\"text\"].setAutoDraw(True)\n",
    "                            if \"box_text\" in box:\n",
    "                                box[\"box_text\"].setAutoDraw(True)\n",
    "                    else:\n",
    "                        if box[\"on\"]:\n",
    "                            box[\"on\"] = False\n",
    "                            box[\"box\"].setAutoDraw(False)\n",
    "                            if \"text\" in box:\n",
    "                                box[\"text\"].setAutoDraw(False)\n",
    "                            if \"box_text\" in box:\n",
    "                                box[\"box_text\"].setAutoDraw(False)\n",
    "\n",
    "            self.win.flip()\n",
    "        \n",
    "        self.win.close()\n",
    "        core.quit()\n",
    "\n",
    "    def stop(self):\n",
    "        self.has_started = False\n",
    "        self.win.close()\n",
    "        core.quit()\n",
    "\n",
    "# def start_ssvep_stimulus(queue, box_frequencies, box_texts=None, box_text_indices=None, display_index=0, display_mode=None, monitor_name='testMonitor'):\n",
    "#     try:\n",
    "#         print(\"Starting SSVEP Stimulus\")\n",
    "#         stimulus = SSVEPStimulus(box_frequencies, box_texts, box_text_indices, display_index, display_mode, monitor_name)\n",
    "#         print(\"Putting actual frequencies into the queue\")\n",
    "#         queue.put(stimulus.actual_frequencies)\n",
    "#         print(\"Actual frequencies put into the queue\")\n",
    "#         stimulus.run()\n",
    "#     except Exception as e:\n",
    "#         print(f\"Error in SSVEP stimulus: {e}\")\n",
    "#         queue.put(None)  # Indicate failure by putting None into the queue\n",
    "\n",
    "# def run_ssvep_stimulus_in_process(box_frequencies, box_texts=None, box_text_indices=None, display_index=0, display_mode=None, monitor_name='testMonitor'):\n",
    "#     queue = Queue()\n",
    "#     stimulus_process = Process(target=start_ssvep_stimulus, args=(queue, box_frequencies, box_texts, box_text_indices, display_index, display_mode, monitor_name))\n",
    "#     stimulus_process.start()\n",
    "#     try:\n",
    "#         print(\"Waiting to get actual frequencies from the queue\")\n",
    "#         actual_frequencies = queue.get(timeout=30)  # Increase timeout to 30 seconds\n",
    "#         if actual_frequencies is None:\n",
    "#             raise Exception(\"Failed to initialize SSVEP stimulus process.\")\n",
    "#         print(\"Got actual frequencies from the queue\")\n",
    "#     except Exception as e:\n",
    "#         print(f\"Failed to get actual frequencies: {e}\")\n",
    "#         stimulus_process.terminate()\n",
    "#         stimulus_process.join()\n",
    "#         raise\n",
    "#     return stimulus_process, actual_frequencies\n",
    "\n",
    "def start_ssvep_stimulus(box_frequencies, box_texts=None, box_text_indices=None, display_index=0, display_mode=None, monitor_name='testMonitor'):\n",
    "\n",
    "    stimulus = SSVEPStimulus(box_frequencies, box_texts, box_text_indices, display_index, display_mode, monitor_name)\n",
    "    stimulus.run()\n",
    "\n",
    "def run_ssvep_stimulus_in_process(box_frequencies, box_texts=None, box_text_indices=None, display_index=0, display_mode=None, monitor_name='testMonitor'):\n",
    "    \n",
    "    stimulus_process = Process(target=start_ssvep_stimulus, args=(box_frequencies, box_texts, box_text_indices, display_index, display_mode, monitor_name))\n",
    "    stimulus_process.start()\n",
    "    return stimulus_process"
   ]
  },
  {
   "cell_type": "code",
   "execution_count": 2,
   "metadata": {},
   "outputs": [
    {
     "ename": "NameError",
     "evalue": "name 'stimulus' is not defined",
     "output_type": "error",
     "traceback": [
      "\u001b[1;31m---------------------------------------------------------------------------\u001b[0m",
      "\u001b[1;31mNameError\u001b[0m                                 Traceback (most recent call last)",
      "Cell \u001b[1;32mIn[2], line 7\u001b[0m\n\u001b[0;32m      4\u001b[0m display_index \u001b[38;5;241m=\u001b[39m \u001b[38;5;241m0\u001b[39m\n\u001b[0;32m      5\u001b[0m display_mode \u001b[38;5;241m=\u001b[39m \u001b[38;5;124m'\u001b[39m\u001b[38;5;124mboth\u001b[39m\u001b[38;5;124m'\u001b[39m\n\u001b[1;32m----> 7\u001b[0m \u001b[43mrun_ssvep_stimulus_in_process\u001b[49m\u001b[43m(\u001b[49m\u001b[43mbox_frequencies\u001b[49m\u001b[43m,\u001b[49m\u001b[43m \u001b[49m\u001b[43mbox_texts\u001b[49m\u001b[43m,\u001b[49m\u001b[43m \u001b[49m\u001b[43mbox_text_indices\u001b[49m\u001b[43m,\u001b[49m\u001b[43m \u001b[49m\u001b[43mdisplay_index\u001b[49m\u001b[43m,\u001b[49m\u001b[43m \u001b[49m\u001b[43mdisplay_mode\u001b[49m\u001b[43m)\u001b[49m\n",
      "Cell \u001b[1;32mIn[1], line 198\u001b[0m, in \u001b[0;36mrun_ssvep_stimulus_in_process\u001b[1;34m(box_frequencies, box_texts, box_text_indices, display_index, display_mode, monitor_name)\u001b[0m\n\u001b[0;32m    196\u001b[0m stimulus_process \u001b[38;5;241m=\u001b[39m Process(target\u001b[38;5;241m=\u001b[39mstart_ssvep_stimulus, args\u001b[38;5;241m=\u001b[39m(box_frequencies, box_texts, box_text_indices, display_index, display_mode, monitor_name))\n\u001b[0;32m    197\u001b[0m stimulus_process\u001b[38;5;241m.\u001b[39mstart()\n\u001b[1;32m--> 198\u001b[0m \u001b[38;5;28;01mreturn\u001b[39;00m stimulus_process, \u001b[43mstimulus\u001b[49m\u001b[38;5;241m.\u001b[39mactual_frequencies\n",
      "\u001b[1;31mNameError\u001b[0m: name 'stimulus' is not defined"
     ]
    }
   ],
   "source": [
    "box_frequencies = [9.25, 11.25, 13.25, 15.25]\n",
    "box_texts = ['Right', 'Left', 'Up', 'Down']\n",
    "box_text_indices = [0, 1, 2, 3]\n",
    "display_index = 0\n",
    "display_mode = 'both'\n",
    "\n",
    "run_ssvep_stimulus_in_process(box_frequencies, box_texts, box_text_indices, display_index, display_mode)"
   ]
  },
  {
   "cell_type": "code",
   "execution_count": 2,
   "metadata": {},
   "outputs": [
    {
     "name": "stdout",
     "output_type": "stream",
     "text": [
      "Waiting to get actual frequencies from the queue\n",
      "Failed to get actual frequencies: \n"
     ]
    },
    {
     "ename": "Empty",
     "evalue": "",
     "output_type": "error",
     "traceback": [
      "\u001b[1;31m---------------------------------------------------------------------------\u001b[0m",
      "\u001b[1;31mEmpty\u001b[0m                                     Traceback (most recent call last)",
      "Cell \u001b[1;32mIn[2], line 8\u001b[0m\n\u001b[0;32m      5\u001b[0m display_mode \u001b[38;5;241m=\u001b[39m \u001b[38;5;124m'\u001b[39m\u001b[38;5;124mboth\u001b[39m\u001b[38;5;124m'\u001b[39m\n\u001b[0;32m      7\u001b[0m \u001b[38;5;66;03m# Using run_ssvep_stimulus_in_process to run the stimulus in a separate process and get actual frequencies\u001b[39;00m\n\u001b[1;32m----> 8\u001b[0m stimulus_process, actual_frequencies \u001b[38;5;241m=\u001b[39m \u001b[43mrun_ssvep_stimulus_in_process\u001b[49m\u001b[43m(\u001b[49m\u001b[43mbox_frequencies\u001b[49m\u001b[43m,\u001b[49m\u001b[43m \u001b[49m\u001b[43mbox_texts\u001b[49m\u001b[43m,\u001b[49m\u001b[43m \u001b[49m\u001b[43mbox_text_indices\u001b[49m\u001b[43m,\u001b[49m\u001b[43m \u001b[49m\u001b[43mdisplay_index\u001b[49m\u001b[43m,\u001b[49m\u001b[43m \u001b[49m\u001b[43mdisplay_mode\u001b[49m\u001b[43m)\u001b[49m\n\u001b[0;32m      9\u001b[0m \u001b[38;5;28mprint\u001b[39m(\u001b[38;5;124m\"\u001b[39m\u001b[38;5;124mActual Frequencies:\u001b[39m\u001b[38;5;124m\"\u001b[39m, actual_frequencies)\n\u001b[0;32m     11\u001b[0m \u001b[38;5;66;03m# Let the stimulus run for 10 seconds\u001b[39;00m\n",
      "Cell \u001b[1;32mIn[1], line 178\u001b[0m, in \u001b[0;36mrun_ssvep_stimulus_in_process\u001b[1;34m(box_frequencies, box_texts, box_text_indices, display_index, display_mode, monitor_name)\u001b[0m\n\u001b[0;32m    176\u001b[0m \u001b[38;5;28;01mtry\u001b[39;00m:\n\u001b[0;32m    177\u001b[0m     \u001b[38;5;28mprint\u001b[39m(\u001b[38;5;124m\"\u001b[39m\u001b[38;5;124mWaiting to get actual frequencies from the queue\u001b[39m\u001b[38;5;124m\"\u001b[39m)\n\u001b[1;32m--> 178\u001b[0m     actual_frequencies \u001b[38;5;241m=\u001b[39m \u001b[43mqueue\u001b[49m\u001b[38;5;241;43m.\u001b[39;49m\u001b[43mget\u001b[49m\u001b[43m(\u001b[49m\u001b[43mtimeout\u001b[49m\u001b[38;5;241;43m=\u001b[39;49m\u001b[38;5;241;43m30\u001b[39;49m\u001b[43m)\u001b[49m  \u001b[38;5;66;03m# Increase timeout to 30 seconds\u001b[39;00m\n\u001b[0;32m    179\u001b[0m     \u001b[38;5;28;01mif\u001b[39;00m actual_frequencies \u001b[38;5;129;01mis\u001b[39;00m \u001b[38;5;28;01mNone\u001b[39;00m:\n\u001b[0;32m    180\u001b[0m         \u001b[38;5;28;01mraise\u001b[39;00m \u001b[38;5;167;01mException\u001b[39;00m(\u001b[38;5;124m\"\u001b[39m\u001b[38;5;124mFailed to initialize SSVEP stimulus process.\u001b[39m\u001b[38;5;124m\"\u001b[39m)\n",
      "File \u001b[1;32mc:\\Users\\masci\\.conda\\envs\\neuro\\lib\\multiprocessing\\queues.py:108\u001b[0m, in \u001b[0;36mQueue.get\u001b[1;34m(self, block, timeout)\u001b[0m\n\u001b[0;32m    106\u001b[0m     timeout \u001b[38;5;241m=\u001b[39m deadline \u001b[38;5;241m-\u001b[39m time\u001b[38;5;241m.\u001b[39mmonotonic()\n\u001b[0;32m    107\u001b[0m     \u001b[38;5;28;01mif\u001b[39;00m \u001b[38;5;129;01mnot\u001b[39;00m \u001b[38;5;28mself\u001b[39m\u001b[38;5;241m.\u001b[39m_poll(timeout):\n\u001b[1;32m--> 108\u001b[0m         \u001b[38;5;28;01mraise\u001b[39;00m Empty\n\u001b[0;32m    109\u001b[0m \u001b[38;5;28;01melif\u001b[39;00m \u001b[38;5;129;01mnot\u001b[39;00m \u001b[38;5;28mself\u001b[39m\u001b[38;5;241m.\u001b[39m_poll():\n\u001b[0;32m    110\u001b[0m     \u001b[38;5;28;01mraise\u001b[39;00m Empty\n",
      "\u001b[1;31mEmpty\u001b[0m: "
     ]
    }
   ],
   "source": [
    "box_frequencies = [9.25, 11.25, 13.25, 15.25]\n",
    "box_texts = ['Right', 'Left', 'Up', 'Down']\n",
    "box_text_indices = [0, 1, 2, 3]\n",
    "display_index = 0\n",
    "display_mode = 'both'\n",
    "\n",
    "# Using run_ssvep_stimulus_in_process to run the stimulus in a separate process and get actual frequencies\n",
    "stimulus_process, actual_frequencies = run_ssvep_stimulus_in_process(box_frequencies, box_texts, box_text_indices, display_index, display_mode)\n",
    "print(\"Actual Frequencies:\", actual_frequencies)\n",
    "\n",
    "# Let the stimulus run for 10 seconds\n",
    "time.sleep(10)\n",
    "\n",
    "# Stop the stimulus process\n",
    "stimulus_process.terminate()\n",
    "stimulus_process.join()"
   ]
  },
  {
   "cell_type": "code",
   "execution_count": 2,
   "metadata": {},
   "outputs": [],
   "source": [
    "serial_port = 'COM4' \n",
    "board_id = BoardIds.SYNTHETIC_BOARD # BoardIds.PLAYBACK_FILE_BOARD -> only if recorded with a support board (I believe...)\n",
    "frequencies = [9.25, 11.25, 13.25, 15.25] # Stimulus frequencies; used for CCA & harmonic generation\n",
    "buttons = ['Right', 'Left', 'Up', 'Down'] # Adds custom text to each box - must be same length as frequencies \n",
    "button_pos = [0, 2, 3, 1] # Assigns positions to custom text - must be same length as buttons\n",
    "segment_duration = 4 # seconds\n",
    "display = 0 # Which screen to display the stimulus paradigm on --> 0 is default\n",
    "display_mode = \"both\"\n",
    "\n",
    "# Static Variables - Probably don't need to touch :)\n",
    "harmonics = np.arange(1, 4) # Generates the 1st, 2nd, & 3rd Harmonics\n",
    "sampling_rate = BoardShim.get_sampling_rate(board_id)\n",
    "n_samples = sampling_rate * segment_duration \n",
    "\n",
    "\n",
    "eeg_channels = BoardShim.get_eeg_names(board_id)\n",
    "channel_names = [\"O1\", \"O2\", \"Oz\", \"Pz\", \"P3\", \"P4\", \"POz\", \"P1\"]\n",
    "channel_mapping = dict(zip(eeg_channels, channel_names))"
   ]
  },
  {
   "cell_type": "code",
   "execution_count": 3,
   "metadata": {},
   "outputs": [
    {
     "name": "stdout",
     "output_type": "stream",
     "text": [
      "Board setup and streaming started successfully\n",
      "test\n"
     ]
    }
   ],
   "source": [
    "import threading\n",
    "\n",
    "# Function to run the EEG processing loop\n",
    "def eeg_processing_loop(segmentation_time_wait, cca_classifier):\n",
    "    while True:\n",
    "        segment = segmentation_time_wait.get_segment_time()\n",
    "        if segment is None:\n",
    "            time.sleep(0.1)  # Wait a little before trying again\n",
    "            continue\n",
    "\n",
    "        eeg_segment = segment[:8, :]  # Assuming 8 channels, adjust if necessary\n",
    "        detected_freq, correlation = cca_classifier(eeg_segment)\n",
    "        print(f\"Detected frequency using CCA: {detected_freq} Hz with correlation: {correlation:.3f}\")\n",
    "\n",
    "        time.sleep(0.1)\n",
    "\n",
    "# Setup the board and segmentation\n",
    "board = BrainFlowBoardSetup(board_id, serial_port)\n",
    "board.setup()\n",
    "\n",
    "segmentation_time_wait = Segmentation(board, segment_duration=2)\n",
    "\n",
    "print('test')\n",
    "\n",
    "# Run the SSVEP Stimulus in a separate process and get actual frequencies\n",
    "stimulus_process, actual_freqs = run_ssvep_stimulus_in_process(box_frequencies=frequencies, \n",
    "                                                              box_texts=buttons, \n",
    "                                                              box_text_indices=button_pos,\n",
    "                                                              display_index=display, \n",
    "                                                              display_mode=display_mode)\n",
    "\n",
    "\n",
    "\n",
    "cca_classifier = SSVEPClassifier(frequencies=actual_freqs, \n",
    "                                 harmonics=np.arange(1, 4), \n",
    "                                 sampling_rate=BoardShim.get_sampling_rate(board_id), \n",
    "                                 n_samples=BoardShim.get_sampling_rate(board_id) * segment_duration, \n",
    "                                 method='CCA', \n",
    "                                 stack_harmonics=True)\n",
    "\n",
    "# Start the EEG processing loop in a separate thread\n",
    "eeg_thread = threading.Thread(target=eeg_processing_loop, args=(segmentation_time_wait, cca_classifier))\n",
    "eeg_thread.start()\n",
    "\n",
    "# Wait for the EEG processing thread to finish (it won't in this example, so you might want to add a condition to break the loop)\n",
    "eeg_thread.join()\n",
    "\n",
    "# Ensure to terminate the stimulus process when done\n",
    "stimulus_process.terminate()\n",
    "stimulus_process.join()"
   ]
  },
  {
   "cell_type": "markdown",
   "metadata": {},
   "source": [
    "## Older Test:"
   ]
  },
  {
   "cell_type": "code",
   "execution_count": 2,
   "metadata": {},
   "outputs": [],
   "source": [
    "from modules.multiprocessing_psychopy_ssvep_stim import *"
   ]
  },
  {
   "cell_type": "code",
   "execution_count": 3,
   "metadata": {},
   "outputs": [],
   "source": [
    "serial_port = 'COM4' \n",
    "board_id = BoardIds.SYNTHETIC_BOARD # BoardIds.PLAYBACK_FILE_BOARD -> only if recorded with a support board (I believe...)\n",
    "frequencies = [9.25, 11.25, 13.25, 15.25] # Stimulus frequencies; used for CCA & harmonic generation\n",
    "buttons = ['Right', 'Left', 'Up', 'Down'] # Adds custom text to each box - must be same length as frequencies \n",
    "button_pos = [0, 2, 3, 1] # Assigns positions to custom text - must be same length as buttons\n",
    "segment_duration = 4 # seconds\n",
    "display = 0 # Which screen to display the stimulus paradigm on --> 0 is default\n",
    "display_mode = \"both\"\n",
    "\n",
    "# Static Variables - Probably don't need to touch :)\n",
    "harmonics = np.arange(1, 4) # Generates the 1st, 2nd, & 3rd Harmonics\n",
    "sampling_rate = BoardShim.get_sampling_rate(board_id)\n",
    "n_samples = sampling_rate * segment_duration \n",
    "\n",
    "\n",
    "eeg_channels = BoardShim.get_eeg_names(board_id)\n",
    "channel_names = [\"O1\", \"O2\", \"Oz\", \"Pz\", \"P3\", \"P4\", \"POz\", \"P1\"]\n",
    "channel_mapping = dict(zip(eeg_channels, channel_names))"
   ]
  },
  {
   "cell_type": "markdown",
   "metadata": {},
   "source": [
    "### Testing:"
   ]
  },
  {
   "cell_type": "code",
   "execution_count": 4,
   "metadata": {},
   "outputs": [
    {
     "name": "stdout",
     "output_type": "stream",
     "text": [
      "Board setup and streaming started successfully\n",
      "Detected frequency using CCA: None Hz with correlation: 0.000\n",
      "Detected frequency using CCA: None Hz with correlation: 0.000\n",
      "Detected frequency using CCA: None Hz with correlation: 0.000\n",
      "Detected frequency using CCA: None Hz with correlation: 0.000\n",
      "Detected frequency using CCA: None Hz with correlation: 0.000\n",
      "Detected frequency using CCA: None Hz with correlation: 0.000\n",
      "Detected frequency using CCA: None Hz with correlation: 0.000\n",
      "Detected frequency using CCA: None Hz with correlation: 0.000\n",
      "Detected frequency using CCA: None Hz with correlation: 0.000\n",
      "Detected frequency using CCA: None Hz with correlation: 0.000\n",
      "Detected frequency using CCA: None Hz with correlation: 0.000\n"
     ]
    },
    {
     "ename": "KeyboardInterrupt",
     "evalue": "",
     "output_type": "error",
     "traceback": [
      "\u001b[1;31m---------------------------------------------------------------------------\u001b[0m",
      "\u001b[1;31mKeyboardInterrupt\u001b[0m                         Traceback (most recent call last)",
      "Cell \u001b[1;32mIn[4], line 22\u001b[0m\n\u001b[0;32m     15\u001b[0m run_ssvep_stimulus_in_process(box_frequencies\u001b[38;5;241m=\u001b[39mfrequencies, \n\u001b[0;32m     16\u001b[0m                               box_texts\u001b[38;5;241m=\u001b[39mbuttons, \n\u001b[0;32m     17\u001b[0m                               box_text_indices\u001b[38;5;241m=\u001b[39mbutton_pos,\n\u001b[0;32m     18\u001b[0m                               display_index\u001b[38;5;241m=\u001b[39mdisplay, \n\u001b[0;32m     19\u001b[0m                               display_mode\u001b[38;5;241m=\u001b[39mdisplay_mode)\n\u001b[0;32m     21\u001b[0m \u001b[38;5;28;01mwhile\u001b[39;00m \u001b[38;5;28;01mTrue\u001b[39;00m:\n\u001b[1;32m---> 22\u001b[0m     segment \u001b[38;5;241m=\u001b[39m \u001b[43msegmentation_time_wait\u001b[49m\u001b[38;5;241;43m.\u001b[39;49m\u001b[43mget_segment_time\u001b[49m\u001b[43m(\u001b[49m\u001b[43m)\u001b[49m\n\u001b[0;32m     23\u001b[0m     \u001b[38;5;28;01mif\u001b[39;00m segment \u001b[38;5;129;01mis\u001b[39;00m \u001b[38;5;28;01mNone\u001b[39;00m:\n\u001b[0;32m     24\u001b[0m         time\u001b[38;5;241m.\u001b[39msleep(\u001b[38;5;241m0.1\u001b[39m)  \u001b[38;5;66;03m# Wait a little before trying again\u001b[39;00m\n",
      "File \u001b[1;32mf:\\Documents\\Non Program Files\\Git Repos\\BCItoolkit\\testing\\..\\modules\\segmentation.py:50\u001b[0m, in \u001b[0;36mSegmentation.get_segment_time\u001b[1;34m(self)\u001b[0m\n\u001b[0;32m     48\u001b[0m \u001b[38;5;66;03m# Wait until the segment duration has passed\u001b[39;00m\n\u001b[0;32m     49\u001b[0m \u001b[38;5;28;01mwhile\u001b[39;00m time\u001b[38;5;241m.\u001b[39mtime() \u001b[38;5;241m-\u001b[39m \u001b[38;5;28mself\u001b[39m\u001b[38;5;241m.\u001b[39mlast_time \u001b[38;5;241m<\u001b[39m \u001b[38;5;28mself\u001b[39m\u001b[38;5;241m.\u001b[39msegment_duration:\n\u001b[1;32m---> 50\u001b[0m     \u001b[43mtime\u001b[49m\u001b[38;5;241;43m.\u001b[39;49m\u001b[43msleep\u001b[49m\u001b[43m(\u001b[49m\u001b[38;5;241;43m0.01\u001b[39;49m\u001b[43m)\u001b[49m  \u001b[38;5;66;03m# Sleep briefly to avoid busy waiting\u001b[39;00m\n\u001b[0;32m     52\u001b[0m \u001b[38;5;66;03m# Update the last time to the current time\u001b[39;00m\n\u001b[0;32m     53\u001b[0m \u001b[38;5;28mself\u001b[39m\u001b[38;5;241m.\u001b[39mlast_time \u001b[38;5;241m=\u001b[39m time\u001b[38;5;241m.\u001b[39mtime()\n",
      "\u001b[1;31mKeyboardInterrupt\u001b[0m: "
     ]
    }
   ],
   "source": [
    "board = BrainFlowBoardSetup(board_id, serial_port)\n",
    "board.setup()\n",
    "\n",
    "segmentation_time_wait = Segmentation(board, segment_duration=2)\n",
    "actual_freqs = frequencies\n",
    "\n",
    "cca_classifier = SSVEPClassifier(frequencies=actual_freqs, \n",
    "                                    harmonics=np.arange(1, 4), \n",
    "                                    sampling_rate=BoardShim.get_sampling_rate(board_id), \n",
    "                                    n_samples=BoardShim.get_sampling_rate(board_id) * segment_duration, \n",
    "                                    method='CCA', \n",
    "                                    stack_harmonics=True)\n",
    "\n",
    "# Run the SSVEP Stimulus in a seperate process\n",
    "run_ssvep_stimulus_in_process(box_frequencies=frequencies, \n",
    "                              box_texts=buttons, \n",
    "                              box_text_indices=button_pos,\n",
    "                              display_index=display, \n",
    "                              display_mode=display_mode)\n",
    "\n",
    "while True:\n",
    "    segment = segmentation_time_wait.get_segment_time()\n",
    "    if segment is None:\n",
    "        time.sleep(0.1)  # Wait a little before trying again\n",
    "        continue\n",
    "\n",
    "    eeg_segment = segment[:8, :]  # Assuming 8 channels, adjust if necessary\n",
    "    detected_freq, correlation = cca_classifier(eeg_segment)\n",
    "    print(f\"Detected frequency using CCA: {detected_freq} Hz with correlation: {correlation:.3f}\")\n",
    "\n",
    "    time.sleep(0.1)"
   ]
  },
  {
   "cell_type": "code",
   "execution_count": null,
   "metadata": {},
   "outputs": [
    {
     "name": "stdout",
     "output_type": "stream",
     "text": [
      "\n",
      "Streaming stopped\n",
      "Session released\n"
     ]
    }
   ],
   "source": [
    "board.stop()"
   ]
  },
  {
   "cell_type": "markdown",
   "metadata": {},
   "source": [
    "### Reference/Old Code:"
   ]
  },
  {
   "cell_type": "code",
   "execution_count": null,
   "metadata": {},
   "outputs": [
    {
     "name": "stdout",
     "output_type": "stream",
     "text": [
      "Sampling Rate: 250\n",
      "Default Channels: ['Fz', 'C3', 'Cz', 'C4', 'Pz', 'PO7', 'Oz', 'PO8', 'F5', 'F7', 'F3', 'F1', 'F2', 'F4', 'F6', 'F8']\n",
      "Channel Mapping: {'Fz': 'O1', 'C3': 'O2', 'Cz': 'Oz', 'C4': 'Pz', 'Pz': 'P3', 'PO7': 'P4', 'Oz': 'POz', 'PO8': 'P1'}\n",
      "Board setup and streaming started successfully\n"
     ]
    }
   ],
   "source": [
    "\n",
    "# Show board information\n",
    "print(f\"Sampling Rate: {sampling_rate}\")\n",
    "print(f\"Default Channels: {eeg_channels}\")\n",
    "print(f\"Channel Mapping: {channel_mapping}\")\n",
    "\n",
    "board = BrainFlowBoardSetup(board_id, serial_port)\n",
    "# board.show_params() # Logger shows this info by default - this is another method to show\n",
    "board.setup()"
   ]
  },
  {
   "cell_type": "code",
   "execution_count": null,
   "metadata": {},
   "outputs": [
    {
     "ename": "NameError",
     "evalue": "name 'PreProcess' is not defined",
     "output_type": "error",
     "traceback": [
      "\u001b[1;31m---------------------------------------------------------------------------\u001b[0m",
      "\u001b[1;31mNameError\u001b[0m                                 Traceback (most recent call last)",
      "Cell \u001b[1;32mIn[7], line 1\u001b[0m\n\u001b[1;32m----> 1\u001b[0m segmenter \u001b[38;5;241m=\u001b[39m \u001b[43mPreProcess\u001b[49m(board, segment_duration\u001b[38;5;241m=\u001b[39msegment_duration)\n\u001b[0;32m      2\u001b[0m classifier \u001b[38;5;241m=\u001b[39m ClassifySSVEP(frequencies, harmonics, sampling_rate, n_samples, stack_harmonics\u001b[38;5;241m=\u001b[39m\u001b[38;5;28;01mFalse\u001b[39;00m)\n\u001b[0;32m      3\u001b[0m classifier_stacked \u001b[38;5;241m=\u001b[39m ClassifySSVEP(frequencies, harmonics, sampling_rate, n_samples, stack_harmonics\u001b[38;5;241m=\u001b[39m\u001b[38;5;28;01mTrue\u001b[39;00m)\n",
      "\u001b[1;31mNameError\u001b[0m: name 'PreProcess' is not defined"
     ]
    }
   ],
   "source": [
    "segmenter = PreProcess(board, segment_duration=segment_duration)\n",
    "classifier = ClassifySSVEP(frequencies, harmonics, sampling_rate, n_samples, stack_harmonics=False)\n",
    "classifier_stacked = ClassifySSVEP(frequencies, harmonics, sampling_rate, n_samples, stack_harmonics=True)\n",
    "\n",
    "while True:\n",
    "    segment = segmenter.get_segment()\n",
    "    if segment is not None:\n",
    "        \n",
    "        # print(f\"Segment shape: {segment.shape}\")\n",
    "        eeg_segment = segment[0:8, :]\n",
    "\n",
    "        # Step 2: Filter the data\n",
    "        filtered_segment = segmenter.filter_data(eeg_segment)\n",
    "        print(\"Filtered data shape:\", filtered_segment.shape)\n",
    "\n",
    "        # Step 3: Use CCA to match the EEG & Reference (harmonic) signals\n",
    "            # Unstacked Harmonics (testing)\n",
    "        detected_freq, correlation = classifier.cca_analysis(filtered_segment)\n",
    "            # Stacked Harmonics (testing)\n",
    "        detected_freq_stacked, correlation_stacked = classifier_stacked.cca_analysis(filtered_segment)\n",
    "        \n",
    "        print(f\"Detected frequency: {detected_freq} Hz with correlation: {correlation}\")\n",
    "\n",
    "        # Optionally save or process the data further\n",
    "        # segmenter.save_data(filtered_data, \"filtered_data.csv\")\n",
    "        # segmenter.save_data(features, \"features.csv\")\n",
    "\n",
    "    # Sleep for a while to collect new data\n",
    "    time.sleep(segmenter.segment_duration)"
   ]
  }
 ],
 "metadata": {
  "kernelspec": {
   "display_name": "neuro",
   "language": "python",
   "name": "python3"
  },
  "language_info": {
   "codemirror_mode": {
    "name": "ipython",
    "version": 3
   },
   "file_extension": ".py",
   "mimetype": "text/x-python",
   "name": "python",
   "nbconvert_exporter": "python",
   "pygments_lexer": "ipython3",
   "version": "3.8.18"
  }
 },
 "nbformat": 4,
 "nbformat_minor": 2
}
